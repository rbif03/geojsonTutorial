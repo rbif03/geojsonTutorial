{
  "cells": [
    {
      "cell_type": "code",
      "execution_count": 12,
      "metadata": {
        "id": "piZCvO3KYle-"
      },
      "outputs": [],
      "source": [
        "import pandas as pd\n",
        "import matplotlib.pyplot as plt\n",
        "import geopandas"
      ]
    },
    {
      "cell_type": "markdown",
      "metadata": {
        "id": "Y37hAjGwAwg6"
      },
      "source": [
        "# Reading the data"
      ]
    },
    {
      "cell_type": "markdown",
      "metadata": {
        "id": "pnRw10QaEGwr"
      },
      "source": [
        "## Finding GeoJSON or Shapefiles for Any Region\n",
        "\n",
        "If you cannot find a GeoJSON file for the region you're interested in, you can search for shapefiles instead. Shapefiles are a common format for geographic data and can be converted to GeoJSON format. This way, you can work with geographic data for any region you need.\n",
        "\n",
        "To find shapefiles, you can use search terms like \"shapefile [region name]\" on Google or specialized geographic data repositories.\n",
        "\n",
        "For example, to convert a shapefile into GeoJSON, you can follow the instructions provided in the link below:\n",
        "\n",
        "https://www.statsilk.com/maps/convert-esri-shapefile-map-geojson-format\n",
        "\n",
        "By following these steps, you can obtain and use geographic data for any region in your analysis."
      ]
    },
    {
      "cell_type": "code",
      "execution_count": 13,
      "metadata": {
        "colab": {
          "base_uri": "https://localhost:8080/",
          "height": 162
        },
        "id": "5FqhSECCaFXS",
        "outputId": "7fdecfcb-a1bd-4394-9e55-1d2b1ed3a0b4"
      },
      "outputs": [
        {
          "data": {
            "text/html": [
              "<div>\n",
              "<style scoped>\n",
              "    .dataframe tbody tr th:only-of-type {\n",
              "        vertical-align: middle;\n",
              "    }\n",
              "\n",
              "    .dataframe tbody tr th {\n",
              "        vertical-align: top;\n",
              "    }\n",
              "\n",
              "    .dataframe thead th {\n",
              "        text-align: right;\n",
              "    }\n",
              "</style>\n",
              "<table border=\"1\" class=\"dataframe\">\n",
              "  <thead>\n",
              "    <tr style=\"text-align: right;\">\n",
              "      <th></th>\n",
              "      <th>name</th>\n",
              "      <th>geometry</th>\n",
              "    </tr>\n",
              "  </thead>\n",
              "  <tbody>\n",
              "    <tr>\n",
              "      <th>0</th>\n",
              "      <td>French Guiana</td>\n",
              "      <td>POLYGON ((-52.28892 4.87612, -52.32461 4.77090...</td>\n",
              "    </tr>\n",
              "    <tr>\n",
              "      <th>1</th>\n",
              "      <td>Brazil</td>\n",
              "      <td>MULTIPOLYGON (((-48.48589 -27.76699, -48.55459...</td>\n",
              "    </tr>\n",
              "    <tr>\n",
              "      <th>2</th>\n",
              "      <td>Chile</td>\n",
              "      <td>MULTIPOLYGON (((-67.57519 -55.88965, -67.61143...</td>\n",
              "    </tr>\n",
              "    <tr>\n",
              "      <th>3</th>\n",
              "      <td>Argentina</td>\n",
              "      <td>MULTIPOLYGON (((-64.54917 -54.71621, -64.43882...</td>\n",
              "    </tr>\n",
              "    <tr>\n",
              "      <th>4</th>\n",
              "      <td>Bolivia</td>\n",
              "      <td>POLYGON ((-58.15977 -20.16465, -58.13994 -19.9...</td>\n",
              "    </tr>\n",
              "  </tbody>\n",
              "</table>\n",
              "</div>"
            ],
            "text/plain": [
              "            name                                           geometry\n",
              "0  French Guiana  POLYGON ((-52.28892 4.87612, -52.32461 4.77090...\n",
              "1         Brazil  MULTIPOLYGON (((-48.48589 -27.76699, -48.55459...\n",
              "2          Chile  MULTIPOLYGON (((-67.57519 -55.88965, -67.61143...\n",
              "3      Argentina  MULTIPOLYGON (((-64.54917 -54.71621, -64.43882...\n",
              "4        Bolivia  POLYGON ((-58.15977 -20.16465, -58.13994 -19.9..."
            ]
          },
          "execution_count": 13,
          "metadata": {},
          "output_type": "execute_result"
        }
      ],
      "source": [
        "# Read the borders of the countries in South America from a GeoJSON file\n",
        "gdf = geopandas.read_file(\"SA.geojson\")\n",
        "gdf.head()"
      ]
    },
    {
      "cell_type": "code",
      "execution_count": 14,
      "metadata": {
        "colab": {
          "base_uri": "https://localhost:8080/",
          "height": 247
        },
        "id": "Mro5f5gNZ_tN",
        "outputId": "2da60021-fc9a-4ed4-d0ac-6b6261c3875e"
      },
      "outputs": [
        {
          "data": {
            "text/html": [
              "<div>\n",
              "<style scoped>\n",
              "    .dataframe tbody tr th:only-of-type {\n",
              "        vertical-align: middle;\n",
              "    }\n",
              "\n",
              "    .dataframe tbody tr th {\n",
              "        vertical-align: top;\n",
              "    }\n",
              "\n",
              "    .dataframe thead th {\n",
              "        text-align: right;\n",
              "    }\n",
              "</style>\n",
              "<table border=\"1\" class=\"dataframe\">\n",
              "  <thead>\n",
              "    <tr style=\"text-align: right;\">\n",
              "      <th></th>\n",
              "      <th>name</th>\n",
              "      <th>Density</th>\n",
              "      <th>Population</th>\n",
              "    </tr>\n",
              "  </thead>\n",
              "  <tbody>\n",
              "    <tr>\n",
              "      <th>0</th>\n",
              "      <td>French Guiana</td>\n",
              "      <td>4</td>\n",
              "      <td>294071</td>\n",
              "    </tr>\n",
              "    <tr>\n",
              "      <th>1</th>\n",
              "      <td>Brazil</td>\n",
              "      <td>25</td>\n",
              "      <td>212559417</td>\n",
              "    </tr>\n",
              "    <tr>\n",
              "      <th>2</th>\n",
              "      <td>Chile</td>\n",
              "      <td>25</td>\n",
              "      <td>18952038</td>\n",
              "    </tr>\n",
              "    <tr>\n",
              "      <th>3</th>\n",
              "      <td>Argentina</td>\n",
              "      <td>16</td>\n",
              "      <td>44938712</td>\n",
              "    </tr>\n",
              "    <tr>\n",
              "      <th>4</th>\n",
              "      <td>Bolivia</td>\n",
              "      <td>10</td>\n",
              "      <td>11513100</td>\n",
              "    </tr>\n",
              "  </tbody>\n",
              "</table>\n",
              "</div>"
            ],
            "text/plain": [
              "            name  Density  Population\n",
              "0  French Guiana        4      294071\n",
              "1         Brazil       25   212559417\n",
              "2          Chile       25    18952038\n",
              "3      Argentina       16    44938712\n",
              "4        Bolivia       10    11513100"
            ]
          },
          "execution_count": 14,
          "metadata": {},
          "output_type": "execute_result"
        }
      ],
      "source": [
        "# This is the data we want to show as a map\n",
        "# Density is given in people/km²\n",
        "df = pd.read_csv(\"SA_data.csv\")\n",
        "df.head()"
      ]
    },
    {
      "cell_type": "markdown",
      "metadata": {
        "id": "Al5rNOAcFGVi"
      },
      "source": [
        "Merge the dataframes to associate Population and Population Density with the geographical borders of each country"
      ]
    },
    {
      "cell_type": "code",
      "execution_count": 15,
      "metadata": {
        "colab": {
          "base_uri": "https://localhost:8080/",
          "height": 206
        },
        "id": "9dDxk8hOae2Q",
        "outputId": "bd0784b3-9204-4f14-8569-b7861a552839"
      },
      "outputs": [
        {
          "data": {
            "text/html": [
              "<div>\n",
              "<style scoped>\n",
              "    .dataframe tbody tr th:only-of-type {\n",
              "        vertical-align: middle;\n",
              "    }\n",
              "\n",
              "    .dataframe tbody tr th {\n",
              "        vertical-align: top;\n",
              "    }\n",
              "\n",
              "    .dataframe thead th {\n",
              "        text-align: right;\n",
              "    }\n",
              "</style>\n",
              "<table border=\"1\" class=\"dataframe\">\n",
              "  <thead>\n",
              "    <tr style=\"text-align: right;\">\n",
              "      <th></th>\n",
              "      <th>name</th>\n",
              "      <th>geometry</th>\n",
              "      <th>Density</th>\n",
              "      <th>Population</th>\n",
              "    </tr>\n",
              "  </thead>\n",
              "  <tbody>\n",
              "    <tr>\n",
              "      <th>0</th>\n",
              "      <td>French Guiana</td>\n",
              "      <td>POLYGON ((-52.28892 4.87612, -52.32461 4.77090...</td>\n",
              "      <td>4</td>\n",
              "      <td>294071</td>\n",
              "    </tr>\n",
              "    <tr>\n",
              "      <th>1</th>\n",
              "      <td>Brazil</td>\n",
              "      <td>MULTIPOLYGON (((-48.48589 -27.76699, -48.55459...</td>\n",
              "      <td>25</td>\n",
              "      <td>212559417</td>\n",
              "    </tr>\n",
              "    <tr>\n",
              "      <th>2</th>\n",
              "      <td>Chile</td>\n",
              "      <td>MULTIPOLYGON (((-67.57519 -55.88965, -67.61143...</td>\n",
              "      <td>25</td>\n",
              "      <td>18952038</td>\n",
              "    </tr>\n",
              "    <tr>\n",
              "      <th>3</th>\n",
              "      <td>Argentina</td>\n",
              "      <td>MULTIPOLYGON (((-64.54917 -54.71621, -64.43882...</td>\n",
              "      <td>16</td>\n",
              "      <td>44938712</td>\n",
              "    </tr>\n",
              "    <tr>\n",
              "      <th>4</th>\n",
              "      <td>Bolivia</td>\n",
              "      <td>POLYGON ((-58.15977 -20.16465, -58.13994 -19.9...</td>\n",
              "      <td>10</td>\n",
              "      <td>11513100</td>\n",
              "    </tr>\n",
              "  </tbody>\n",
              "</table>\n",
              "</div>"
            ],
            "text/plain": [
              "            name                                           geometry  Density  \\\n",
              "0  French Guiana  POLYGON ((-52.28892 4.87612, -52.32461 4.77090...        4   \n",
              "1         Brazil  MULTIPOLYGON (((-48.48589 -27.76699, -48.55459...       25   \n",
              "2          Chile  MULTIPOLYGON (((-67.57519 -55.88965, -67.61143...       25   \n",
              "3      Argentina  MULTIPOLYGON (((-64.54917 -54.71621, -64.43882...       16   \n",
              "4        Bolivia  POLYGON ((-58.15977 -20.16465, -58.13994 -19.9...       10   \n",
              "\n",
              "   Population  \n",
              "0      294071  \n",
              "1   212559417  \n",
              "2    18952038  \n",
              "3    44938712  \n",
              "4    11513100  "
            ]
          },
          "execution_count": 15,
          "metadata": {},
          "output_type": "execute_result"
        }
      ],
      "source": [
        "gdf = pd.merge(gdf, df, on=\"name\")\n",
        "gdf.head()"
      ]
    },
    {
      "cell_type": "markdown",
      "metadata": {
        "id": "eDXCGAVRK2p5"
      },
      "source": [
        "# Creating the final geojson files\n",
        "We will create 2 geojson files: one for population and another for population density.\n",
        "\n",
        "We will rename the fields \"Population\" and \"Density\" to \"value\". This way, both files will have the same structure, which will make it easier to create the maps in JavaScript."
      ]
    },
    {
      "cell_type": "code",
      "execution_count": 16,
      "metadata": {
        "colab": {
          "base_uri": "https://localhost:8080/",
          "height": 457
        },
        "id": "7GfIiWdLiUFa",
        "outputId": "aafd0815-f2a8-4f67-a1a3-cac72fa0f146"
      },
      "outputs": [
        {
          "data": {
            "text/html": [
              "<div>\n",
              "<style scoped>\n",
              "    .dataframe tbody tr th:only-of-type {\n",
              "        vertical-align: middle;\n",
              "    }\n",
              "\n",
              "    .dataframe tbody tr th {\n",
              "        vertical-align: top;\n",
              "    }\n",
              "\n",
              "    .dataframe thead th {\n",
              "        text-align: right;\n",
              "    }\n",
              "</style>\n",
              "<table border=\"1\" class=\"dataframe\">\n",
              "  <thead>\n",
              "    <tr style=\"text-align: right;\">\n",
              "      <th></th>\n",
              "      <th>name</th>\n",
              "      <th>geometry</th>\n",
              "      <th>value</th>\n",
              "    </tr>\n",
              "  </thead>\n",
              "  <tbody>\n",
              "    <tr>\n",
              "      <th>0</th>\n",
              "      <td>French Guiana</td>\n",
              "      <td>POLYGON ((-52.28892 4.87612, -52.32461 4.77090...</td>\n",
              "      <td>294071</td>\n",
              "    </tr>\n",
              "    <tr>\n",
              "      <th>1</th>\n",
              "      <td>Brazil</td>\n",
              "      <td>MULTIPOLYGON (((-48.48589 -27.76699, -48.55459...</td>\n",
              "      <td>212559417</td>\n",
              "    </tr>\n",
              "    <tr>\n",
              "      <th>2</th>\n",
              "      <td>Chile</td>\n",
              "      <td>MULTIPOLYGON (((-67.57519 -55.88965, -67.61143...</td>\n",
              "      <td>18952038</td>\n",
              "    </tr>\n",
              "    <tr>\n",
              "      <th>3</th>\n",
              "      <td>Argentina</td>\n",
              "      <td>MULTIPOLYGON (((-64.54917 -54.71621, -64.43882...</td>\n",
              "      <td>44938712</td>\n",
              "    </tr>\n",
              "    <tr>\n",
              "      <th>4</th>\n",
              "      <td>Bolivia</td>\n",
              "      <td>POLYGON ((-58.15977 -20.16465, -58.13994 -19.9...</td>\n",
              "      <td>11513100</td>\n",
              "    </tr>\n",
              "    <tr>\n",
              "      <th>5</th>\n",
              "      <td>Colombia</td>\n",
              "      <td>MULTIPOLYGON (((-78.11372 2.54175, -78.14082 2...</td>\n",
              "      <td>50339443</td>\n",
              "    </tr>\n",
              "    <tr>\n",
              "      <th>6</th>\n",
              "      <td>Ecuador</td>\n",
              "      <td>MULTIPOLYGON (((-80.13159 -2.97315, -80.15068 ...</td>\n",
              "      <td>17373662</td>\n",
              "    </tr>\n",
              "    <tr>\n",
              "      <th>7</th>\n",
              "      <td>Guyana</td>\n",
              "      <td>POLYGON ((-57.19477 5.54844, -57.24790 5.48525...</td>\n",
              "      <td>782766</td>\n",
              "    </tr>\n",
              "    <tr>\n",
              "      <th>8</th>\n",
              "      <td>Peru</td>\n",
              "      <td>POLYGON ((-69.96592 -4.23594, -69.97202 -4.301...</td>\n",
              "      <td>32510453</td>\n",
              "    </tr>\n",
              "    <tr>\n",
              "      <th>9</th>\n",
              "      <td>Paraguay</td>\n",
              "      <td>POLYGON ((-58.15977 -20.16465, -58.13779 -20.2...</td>\n",
              "      <td>7044636</td>\n",
              "    </tr>\n",
              "    <tr>\n",
              "      <th>10</th>\n",
              "      <td>Suriname</td>\n",
              "      <td>POLYGON ((-54.15596 5.35898, -54.24019 5.28823...</td>\n",
              "      <td>581372</td>\n",
              "    </tr>\n",
              "    <tr>\n",
              "      <th>11</th>\n",
              "      <td>Uruguay</td>\n",
              "      <td>POLYGON ((-53.37060 -33.74219, -53.41958 -33.7...</td>\n",
              "      <td>3461734</td>\n",
              "    </tr>\n",
              "    <tr>\n",
              "      <th>12</th>\n",
              "      <td>Venezuela</td>\n",
              "      <td>MULTIPOLYGON (((-60.99790 8.86733, -61.05996 8...</td>\n",
              "      <td>28515829</td>\n",
              "    </tr>\n",
              "  </tbody>\n",
              "</table>\n",
              "</div>"
            ],
            "text/plain": [
              "             name                                           geometry  \\\n",
              "0   French Guiana  POLYGON ((-52.28892 4.87612, -52.32461 4.77090...   \n",
              "1          Brazil  MULTIPOLYGON (((-48.48589 -27.76699, -48.55459...   \n",
              "2           Chile  MULTIPOLYGON (((-67.57519 -55.88965, -67.61143...   \n",
              "3       Argentina  MULTIPOLYGON (((-64.54917 -54.71621, -64.43882...   \n",
              "4         Bolivia  POLYGON ((-58.15977 -20.16465, -58.13994 -19.9...   \n",
              "5        Colombia  MULTIPOLYGON (((-78.11372 2.54175, -78.14082 2...   \n",
              "6         Ecuador  MULTIPOLYGON (((-80.13159 -2.97315, -80.15068 ...   \n",
              "7          Guyana  POLYGON ((-57.19477 5.54844, -57.24790 5.48525...   \n",
              "8            Peru  POLYGON ((-69.96592 -4.23594, -69.97202 -4.301...   \n",
              "9        Paraguay  POLYGON ((-58.15977 -20.16465, -58.13779 -20.2...   \n",
              "10       Suriname  POLYGON ((-54.15596 5.35898, -54.24019 5.28823...   \n",
              "11        Uruguay  POLYGON ((-53.37060 -33.74219, -53.41958 -33.7...   \n",
              "12      Venezuela  MULTIPOLYGON (((-60.99790 8.86733, -61.05996 8...   \n",
              "\n",
              "        value  \n",
              "0      294071  \n",
              "1   212559417  \n",
              "2    18952038  \n",
              "3    44938712  \n",
              "4    11513100  \n",
              "5    50339443  \n",
              "6    17373662  \n",
              "7      782766  \n",
              "8    32510453  \n",
              "9     7044636  \n",
              "10     581372  \n",
              "11    3461734  \n",
              "12   28515829  "
            ]
          },
          "execution_count": 16,
          "metadata": {},
          "output_type": "execute_result"
        }
      ],
      "source": [
        "pop = gdf.drop([\"Density\"], axis=1)\n",
        "pop = pop.rename(columns={\"Population\": \"value\"})\n",
        "pop"
      ]
    },
    {
      "cell_type": "code",
      "execution_count": 17,
      "metadata": {
        "id": "ZytqEO6Vjjk9"
      },
      "outputs": [],
      "source": [
        "# saving the file\n",
        "pop.to_file(\"population.geojson\", driver=\"GeoJSON\")"
      ]
    },
    {
      "cell_type": "markdown",
      "metadata": {
        "id": "EkllzzeiLwVX"
      },
      "source": [
        "## Now do the same to density"
      ]
    },
    {
      "cell_type": "code",
      "execution_count": 18,
      "metadata": {
        "colab": {
          "base_uri": "https://localhost:8080/",
          "height": 457
        },
        "id": "NDHBcNJYj9Qk",
        "outputId": "ae12159b-8e00-40a8-b98a-4b0ae3f858bd"
      },
      "outputs": [
        {
          "data": {
            "text/html": [
              "<div>\n",
              "<style scoped>\n",
              "    .dataframe tbody tr th:only-of-type {\n",
              "        vertical-align: middle;\n",
              "    }\n",
              "\n",
              "    .dataframe tbody tr th {\n",
              "        vertical-align: top;\n",
              "    }\n",
              "\n",
              "    .dataframe thead th {\n",
              "        text-align: right;\n",
              "    }\n",
              "</style>\n",
              "<table border=\"1\" class=\"dataframe\">\n",
              "  <thead>\n",
              "    <tr style=\"text-align: right;\">\n",
              "      <th></th>\n",
              "      <th>name</th>\n",
              "      <th>geometry</th>\n",
              "      <th>value</th>\n",
              "    </tr>\n",
              "  </thead>\n",
              "  <tbody>\n",
              "    <tr>\n",
              "      <th>0</th>\n",
              "      <td>French Guiana</td>\n",
              "      <td>POLYGON ((-52.28892 4.87612, -52.32461 4.77090...</td>\n",
              "      <td>4</td>\n",
              "    </tr>\n",
              "    <tr>\n",
              "      <th>1</th>\n",
              "      <td>Brazil</td>\n",
              "      <td>MULTIPOLYGON (((-48.48589 -27.76699, -48.55459...</td>\n",
              "      <td>25</td>\n",
              "    </tr>\n",
              "    <tr>\n",
              "      <th>2</th>\n",
              "      <td>Chile</td>\n",
              "      <td>MULTIPOLYGON (((-67.57519 -55.88965, -67.61143...</td>\n",
              "      <td>25</td>\n",
              "    </tr>\n",
              "    <tr>\n",
              "      <th>3</th>\n",
              "      <td>Argentina</td>\n",
              "      <td>MULTIPOLYGON (((-64.54917 -54.71621, -64.43882...</td>\n",
              "      <td>16</td>\n",
              "    </tr>\n",
              "    <tr>\n",
              "      <th>4</th>\n",
              "      <td>Bolivia</td>\n",
              "      <td>POLYGON ((-58.15977 -20.16465, -58.13994 -19.9...</td>\n",
              "      <td>10</td>\n",
              "    </tr>\n",
              "    <tr>\n",
              "      <th>5</th>\n",
              "      <td>Colombia</td>\n",
              "      <td>MULTIPOLYGON (((-78.11372 2.54175, -78.14082 2...</td>\n",
              "      <td>46</td>\n",
              "    </tr>\n",
              "    <tr>\n",
              "      <th>6</th>\n",
              "      <td>Ecuador</td>\n",
              "      <td>MULTIPOLYGON (((-80.13159 -2.97315, -80.15068 ...</td>\n",
              "      <td>56</td>\n",
              "    </tr>\n",
              "    <tr>\n",
              "      <th>7</th>\n",
              "      <td>Guyana</td>\n",
              "      <td>POLYGON ((-57.19477 5.54844, -57.24790 5.48525...</td>\n",
              "      <td>4</td>\n",
              "    </tr>\n",
              "    <tr>\n",
              "      <th>8</th>\n",
              "      <td>Peru</td>\n",
              "      <td>POLYGON ((-69.96592 -4.23594, -69.97202 -4.301...</td>\n",
              "      <td>25</td>\n",
              "    </tr>\n",
              "    <tr>\n",
              "      <th>9</th>\n",
              "      <td>Paraguay</td>\n",
              "      <td>POLYGON ((-58.15977 -20.16465, -58.13779 -20.2...</td>\n",
              "      <td>18</td>\n",
              "    </tr>\n",
              "    <tr>\n",
              "      <th>10</th>\n",
              "      <td>Suriname</td>\n",
              "      <td>POLYGON ((-54.15596 5.35898, -54.24019 5.28823...</td>\n",
              "      <td>4</td>\n",
              "    </tr>\n",
              "    <tr>\n",
              "      <th>11</th>\n",
              "      <td>Uruguay</td>\n",
              "      <td>POLYGON ((-53.37060 -33.74219, -53.41958 -33.7...</td>\n",
              "      <td>20</td>\n",
              "    </tr>\n",
              "    <tr>\n",
              "      <th>12</th>\n",
              "      <td>Venezuela</td>\n",
              "      <td>MULTIPOLYGON (((-60.99790 8.86733, -61.05996 8...</td>\n",
              "      <td>32</td>\n",
              "    </tr>\n",
              "  </tbody>\n",
              "</table>\n",
              "</div>"
            ],
            "text/plain": [
              "             name                                           geometry  value\n",
              "0   French Guiana  POLYGON ((-52.28892 4.87612, -52.32461 4.77090...      4\n",
              "1          Brazil  MULTIPOLYGON (((-48.48589 -27.76699, -48.55459...     25\n",
              "2           Chile  MULTIPOLYGON (((-67.57519 -55.88965, -67.61143...     25\n",
              "3       Argentina  MULTIPOLYGON (((-64.54917 -54.71621, -64.43882...     16\n",
              "4         Bolivia  POLYGON ((-58.15977 -20.16465, -58.13994 -19.9...     10\n",
              "5        Colombia  MULTIPOLYGON (((-78.11372 2.54175, -78.14082 2...     46\n",
              "6         Ecuador  MULTIPOLYGON (((-80.13159 -2.97315, -80.15068 ...     56\n",
              "7          Guyana  POLYGON ((-57.19477 5.54844, -57.24790 5.48525...      4\n",
              "8            Peru  POLYGON ((-69.96592 -4.23594, -69.97202 -4.301...     25\n",
              "9        Paraguay  POLYGON ((-58.15977 -20.16465, -58.13779 -20.2...     18\n",
              "10       Suriname  POLYGON ((-54.15596 5.35898, -54.24019 5.28823...      4\n",
              "11        Uruguay  POLYGON ((-53.37060 -33.74219, -53.41958 -33.7...     20\n",
              "12      Venezuela  MULTIPOLYGON (((-60.99790 8.86733, -61.05996 8...     32"
            ]
          },
          "execution_count": 18,
          "metadata": {},
          "output_type": "execute_result"
        }
      ],
      "source": [
        "den = gdf.drop([\"Population\"], axis=1)\n",
        "den = den.rename(columns={\"Density\": \"value\"})\n",
        "den"
      ]
    },
    {
      "cell_type": "code",
      "execution_count": 19,
      "metadata": {
        "id": "PYOoAzjUj9ZE"
      },
      "outputs": [],
      "source": [
        "# saving the file\n",
        "den.to_file(\"density.geojson\", driver=\"GeoJSON\")"
      ]
    },
    {
      "cell_type": "markdown",
      "metadata": {
        "id": "1vT9XGWsJ1SK"
      },
      "source": [
        "# Creating Static Maps\n",
        "If you don't need interactive maps (which the user can select what they want to see), you can use GeoPandas to create static maps (images)."
      ]
    },
    {
      "cell_type": "code",
      "execution_count": 20,
      "metadata": {
        "id": "g9Q9dc7pdZxP"
      },
      "outputs": [],
      "source": [
        "# List of capital cities with their respective coordinates\n",
        "capital_cities = [\n",
        "    [\"Buenos Aires, Argentina\", -34.6037, -58.3816],\n",
        "    [\"Sucre, Bolivia\", -19.0196, -65.2617],\n",
        "    [\"Brasília, Brazil\", -15.7934, -47.8825],\n",
        "    [\"Santiago, Chile\", -33.4489, -70.6693],\n",
        "    [\"Bogotá, Colombia\", 4.7110, -74.0721],\n",
        "    [\"Quito, Ecuador\", -0.1807, -78.4678],\n",
        "    [\"Georgetown, Guyana\", 6.8013, -58.1551],\n",
        "    [\"Asunción, Paraguay\", -25.2637, -57.5759],\n",
        "    [\"Lima, Peru\", -12.0464, -77.0428],\n",
        "    [\"Paramaribo, Suriname\", 5.8520, -55.2038],\n",
        "    [\"Montevideo, Uruguay\", -34.9011, -56.1645],\n",
        "    [\"Caracas, Venezuela\", 10.4806, -66.9036]\n",
        "]\n",
        "\n",
        "names, lat, lon = zip(*capital_cities)"
      ]
    },
    {
      "cell_type": "markdown",
      "metadata": {
        "id": "uR-9dw3JNzDz"
      },
      "source": [
        "GeoPandas plot method is based in matplotlib, so you can plot the map along with whatever you want, in this case I'm plotting the capital cities of the countries.\n",
        "\n",
        "You can learn more about the kwargs you can use with the plot method in https://geopandas.org/en/stable/docs/user_guide/mapping.html"
      ]
    },
    {
      "cell_type": "code",
      "execution_count": 21,
      "metadata": {
        "colab": {
          "base_uri": "https://localhost:8080/",
          "height": 421
        },
        "id": "PmH7X4tLalOO",
        "outputId": "1cc7fe53-53da-40ba-d5bf-6713023f0de5"
      },
      "outputs": [
        {
          "data": {
            "image/png": "[encoded data removed]",
            "text/plain": [
              "<Figure size 640x480 with 2 Axes>"
            ]
          },
          "metadata": {},
          "output_type": "display_data"
        }
      ],
      "source": [
        "fig, ax = plt.subplots()\n",
        "\n",
        "gdf.plot(\n",
        "    column=\"Density\",\n",
        "    ax=ax,\n",
        "    cmap=\"OrRd\",\n",
        "    edgecolor='black',\n",
        "    linewidth=0.5,\n",
        "    legend=True,\n",
        "    legend_kwds={\"label\": \"Population Density [people/km²]\"}\n",
        ")\n",
        "\n",
        "# Adding the capital cities\n",
        "plt.scatter(lon, lat, color=\"green\", marker=\"*\", label=\"Capital Cities\")\n",
        "plt.legend(loc='lower right')\n",
        "\n",
        "ax.set_axis_off();\n",
        "plt.show()"
      ]
    },
    {
      "cell_type": "code",
      "execution_count": 22,
      "metadata": {
        "colab": {
          "base_uri": "https://localhost:8080/",
          "height": 421
        },
        "id": "M4Z81Q1PbhGD",
        "outputId": "1f954e44-6dd7-4b6d-a42c-cc74fccb940a"
      },
      "outputs": [
        {
          "data": {
            "image/png": "[encoded data removed]",
            "text/plain": [
              "<Figure size 640x480 with 2 Axes>"
            ]
          },
          "metadata": {},
          "output_type": "display_data"
        }
      ],
      "source": [
        "# Doing the exact same to population\n",
        "fig, ax = plt.subplots()\n",
        "\n",
        "gdf.plot(\n",
        "    column=\"Population\",\n",
        "    ax=ax,\n",
        "    cmap=\"OrRd\",\n",
        "    edgecolor='black',\n",
        "    linewidth=0.5,\n",
        "    legend=True,\n",
        "    legend_kwds={\"label\": \"Population [people]\"}\n",
        ")\n",
        "\n",
        "plt.scatter(lon, lat, color=\"green\", marker=\"*\", label=\"Capital Cities\")\n",
        "plt.legend(loc='lower right')\n",
        "\n",
        "ax.set_axis_off();\n",
        "plt.show()"
      ]
    }
  ],
  "metadata": {
    "colab": {
      "provenance": []
    },
    "kernelspec": {
      "display_name": "Python 3",
      "name": "python3"
    },
    "language_info": {
      "codemirror_mode": {
        "name": "ipython",
        "version": 3
      },
      "file_extension": ".py",
      "mimetype": "text/x-python",
      "name": "python",
      "nbconvert_exporter": "python",
      "pygments_lexer": "ipython3",
      "version": "3.12.3"
    }
  },
  "nbformat": 4,
  "nbformat_minor": 0
}
